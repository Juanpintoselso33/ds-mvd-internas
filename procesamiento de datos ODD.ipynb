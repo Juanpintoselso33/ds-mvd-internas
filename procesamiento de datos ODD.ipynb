{
 "cells": [
  {
   "cell_type": "code",
   "execution_count": null,
   "metadata": {},
   "outputs": [],
   "source": [
    "import pandas as pd\n",
    "import os\n",
    "\n",
    "# Definir la ruta a la carpeta ODN\n",
    "odd_folder = r'[ODD_DATA_FOLDER]'\n",
    "\n",
    "# Crear una lista para almacenar los datos de todos los archivos\n",
    "all_data = []\n",
    "\n",
    "# Recorrer todos los archivos en la carpeta ODD\n",
    "for file_name in os.listdir(odd_folder):\n",
    "    # Verificar si el archivo es un Excel moderno (xlsx)\n",
    "    if file_name.endswith('.xlsx'):\n",
    "        # Definir la ruta completa del archivo\n",
    "        file_path = os.path.join(odd_folder, file_name)\n",
    "        try:\n",
    "            # Leer el archivo Excel, con el encabezado en la fila 9\n",
    "            df = pd.read_excel(file_path, header=8, usecols='A:H')\n",
    "            # Agregar los datos a la lista\n",
    "            all_data.append(df)\n",
    "        except Exception as e:\n",
    "            print(f\"Error leyendo el archivo {file_name}: {e}\")\n",
    "\n",
    "# Combinar todos los datos en un solo DataFrame\n",
    "if all_data:\n",
    "    combined_data = pd.concat(all_data, ignore_index=True)\n",
    "\n",
    "    # Filtrar los datos donde la columna DEPTO es Montevideo\n",
    "    montevideo_odd_data = combined_data[combined_data['DEPTO'] == 'Montevideo']\n",
    "\n",
    "    # Mostrar los primeros registros del DataFrame filtrado\n",
    "    print(montevideo_odd_data.head())\n",
    "\n",
    "    # Guardar el DataFrame filtrado en un archivo CSV\n",
    "    montevideo_odd_data.to_csv('montevideo_odd_dataset.csv', index=False)\n",
    "else:\n",
    "    print(\"No se encontraron datos válidos en los archivos Excel.\")\n"
   ]
  },
  {
   "cell_type": "code",
   "execution_count": null,
   "metadata": {},
   "outputs": [],
   "source": [
    "# Renombrar la columna 'CONVOCATORIA' a 'PARTIDO'\n",
    "montevideo_odd_data.rename(columns={'CONVOCATORIA': 'PARTIDO'}, inplace=True)\n",
    "\n",
    "# Función para modificar los valores de la columna 'PARTIDO'\n",
    "def modificar_partido_odd(valor):\n",
    "    # Separar el valor por '_-_' y tomar la primera parte\n",
    "    partido = valor.split('_-_')[0]\n",
    "    # Reemplazar '_' por espacios y agregar 'Partido' al inicio\n",
    "    partido = partido.replace('_', ' ')\n",
    "    # Eliminar el sufijo ' O.D.N.' si existe\n",
    "    if 'O.D.D.' in partido:\n",
    "        partido = partido.replace(' O.D.D.', '')\n",
    "    return partido\n",
    "\n",
    "# Aplicar la función a la columna 'PARTIDO'\n",
    "montevideo_odd_data['PARTIDO'] = montevideo_odd_data['PARTIDO'].apply(modificar_partido_odd)\n",
    "\n",
    "# Verificar si la columna 'ACTO' existe y eliminarla si es el caso\n",
    "if 'ACTO' in montevideo_odd_data.columns:\n",
    "    montevideo_odd_data.drop(columns=['ACTO'], inplace=True)\n",
    "\n",
    "# Mostrar los primeros registros del DataFrame modificado\n",
    "montevideo_odd_data.head()\n"
   ]
  },
  {
   "cell_type": "code",
   "execution_count": null,
   "metadata": {},
   "outputs": [],
   "source": []
  },
  {
   "cell_type": "code",
   "execution_count": null,
   "metadata": {},
   "outputs": [],
   "source": [
    "montevideo_odd_data.to_csv('montevideo_odd_dataset_modificado.csv', index=False)"
   ]
  },
  {
   "cell_type": "code",
   "execution_count": null,
   "metadata": {},
   "outputs": [],
   "source": [
    "import pandas as pd\n",
    "\n",
    "# Leer el archivo CSV de referencia\n",
    "ref_df = pd.read_csv('votos_por_barrio_pn_mapeado_odd.csv', delimiter=';')\n",
    "\n",
    "# Asegurarse de que la columna 'SERIE' sea de tipo string\n",
    "ref_df['SERIE'] = ref_df['SERIE'].astype(str)\n",
    "\n",
    "# Crear un diccionario para mapear series a zonas\n",
    "series_to_zona = {}\n",
    "for index, row in ref_df.iterrows():\n",
    "    series = row['SERIE'].split()  # Dividir las series si están separadas por espacios\n",
    "    for serie in series:\n",
    "        series_to_zona[serie] = row['ZONA']\n",
    "\n",
    "# Función para mapear serie a zona\n",
    "def obtener_zona(serie):\n",
    "    series = str(serie).split()  # Asegurarse de que la serie sea una cadena y dividirla\n",
    "    zonas = [series_to_zona.get(s, 'Desconocido') for s in series]  # Obtener la zona para cada serie\n",
    "    return ' '.join(set(zonas))  # Devolver las zonas únicas\n",
    "\n",
    "# Aplicar la función al DataFrame existente (montevideo_odd_data)\n",
    "montevideo_odd_data['ZONA'] = montevideo_odd_data['SERIES'].apply(obtener_zona)\n",
    "\n",
    "# Mostrar los primeros registros del DataFrame modificado\n",
    "print(montevideo_odd_data.head())\n",
    "\n",
    "# Guardar el DataFrame modificado en un archivo CSV\n",
    "montevideo_odd_data.to_csv('montevideo_odd_dataset_con_zona.csv', index=False)\n"
   ]
  },
  {
   "cell_type": "code",
   "execution_count": null,
   "metadata": {},
   "outputs": [],
   "source": []
  }
 ],
 "metadata": {
  "kernelspec": {
   "display_name": "Python 3",
   "language": "python",
   "name": "python3"
  },
  "language_info": {
   "codemirror_mode": {
    "name": "ipython",
    "version": 3
   },
   "file_extension": ".py",
   "mimetype": "text/x-python",
   "name": "python",
   "nbconvert_exporter": "python",
   "pygments_lexer": "ipython3",
   "version": "3.10.11"
  }
 },
 "nbformat": 4,
 "nbformat_minor": 2
}
