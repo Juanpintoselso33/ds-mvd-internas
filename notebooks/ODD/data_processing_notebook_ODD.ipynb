{
 "cells": [
  {
   "cell_type": "markdown",
   "metadata": {},
   "source": [
    "# ODD Data Processing for Any Department\n",
    "\n",
    "This notebook processes ODD data for a specified department. It's divided into several sections, each performing a specific task in the data processing pipeline.\n",
    "\n",
    "## Import Libraries and Define Helper Functions\n",
    "\n",
    "This cell imports necessary libraries and defines helper functions for data processing."
   ]
  },
  {
   "cell_type": "code",
   "execution_count": 17,
   "metadata": {},
   "outputs": [],
   "source": [
    "def process_odd_data(department, odd_folder, output_dir, mapping_dir, final_dir):\n",
    "    # Load data\n",
    "    combined_data = load_odd_data(odd_folder)\n",
    "    if combined_data is None:\n",
    "        print(\"No valid data found in Excel files.\")\n",
    "        return\n",
    "\n",
    "    # Filter data for the specified department\n",
    "    department_odd_data = combined_data[combined_data['DEPTO'] == department].copy()\n",
    "    department_odd_data.to_csv(os.path.join(output_dir, f'{department.lower()}_odd_filtered.csv'), index=False, encoding='utf-8')\n",
    "\n",
    "    # Clean and transform data\n",
    "    department_odd_data.rename(columns={'CONVOCATORIA': 'PARTIDO'}, inplace=True)\n",
    "    department_odd_data['PARTIDO'] = department_odd_data['PARTIDO'].apply(clean_party_name)\n",
    "    department_odd_data.to_csv(os.path.join(output_dir, f'{department.lower()}_odd_cleaned.csv'), index=False, encoding='utf-8')\n",
    "\n",
    "    if 'ACTO' in department_odd_data.columns:\n",
    "        department_odd_data = department_odd_data.drop(columns=['ACTO'])\n",
    "        department_odd_data.to_csv(os.path.join(output_dir, f'{department.lower()}_odd_no_acto.csv'), index=False, encoding='utf-8')\n",
    "\n",
    "    # Add zone information\n",
    "    mapping_file = os.path.join(mapping_dir, f'mapping_{department.lower()}.json')\n",
    "    with open(mapping_file, 'r', encoding='utf-8') as f:\n",
    "        series_to_zona = json.load(f)\n",
    "    department_odd_data['ZONA'] = department_odd_data['SERIES'].apply(lambda x: get_zone(x, series_to_zona))\n",
    "    \n",
    "    # Save final data\n",
    "    department_odd_data.to_csv(os.path.join(final_dir, f'{department.lower()}_odd_final.csv'), index=False, encoding='utf-8')\n",
    "\n",
    "    print(f\"Processed ODD data for {department}:\")\n",
    "    print(department_odd_data.head())\n",
    "    print(f\"\\nSaved processed data to:\")\n",
    "    print(f\"- {output_dir}/{department.lower()}_odd_filtered.csv\")\n",
    "    print(f\"- {output_dir}/{department.lower()}_odd_cleaned.csv\")\n",
    "    if 'ACTO' in combined_data.columns:\n",
    "        print(f\"- {output_dir}/{department.lower()}_odd_no_acto.csv\")\n",
    "    print(f\"- {final_dir}/{department.lower()}_odd_final.csv\")"
   ]
  },
  {
   "cell_type": "markdown",
   "metadata": {},
   "source": [
    "## Process ODD Data for a Specific Department\n",
    "\n",
    "You can change the department name, input folder, and output directory in the cell below to process data for different departments."
   ]
  },
  {
   "cell_type": "code",
   "execution_count": 18,
   "metadata": {},
   "outputs": [
    {
     "name": "stdout",
     "output_type": "stream",
     "text": [
      "Processed ODD data for Colonia:\n",
      "               PARTIDO    DEPTO CIRCUITO SERIES     ESCRUTINIO  HOJA  \\\n",
      "1234  Asamblea Popular  Colonia        6    NAB  Departamental  1326   \n",
      "1235  Asamblea Popular  Colonia       11    NAB  Departamental  1326   \n",
      "1236  Asamblea Popular  Colonia       13    NAB  Departamental  1326   \n",
      "1237  Asamblea Popular  Colonia       16    NAB  Departamental  1326   \n",
      "1238  Asamblea Popular  Colonia       47    NAD  Departamental  1326   \n",
      "\n",
      "     CNT_VOTOS                                   ZONA  \n",
      "1234         1  Pueblo Nuevo - Colonia del Sacramento  \n",
      "1235         1  Pueblo Nuevo - Colonia del Sacramento  \n",
      "1236         1  Pueblo Nuevo - Colonia del Sacramento  \n",
      "1237         1  Pueblo Nuevo - Colonia del Sacramento  \n",
      "1238         1                     Real de San Carlos  \n",
      "\n",
      "Saved processed data to:\n",
      "- c:\\Users\\trico\\Desktop\\Internas 2024\\data\\processed\\ODD\\Colonia/colonia_odd_filtered.csv\n",
      "- c:\\Users\\trico\\Desktop\\Internas 2024\\data\\processed\\ODD\\Colonia/colonia_odd_cleaned.csv\n",
      "- c:\\Users\\trico\\Desktop\\Internas 2024\\data\\processed\\ODD\\Colonia/colonia_odd_no_acto.csv\n",
      "- c:\\Users\\trico\\Desktop\\Internas 2024\\data\\final\\odd/colonia_odd_final.csv\n"
     ]
    },
    {
     "name": "stderr",
     "output_type": "stream",
     "text": [
      "C:\\Users\\trico\\AppData\\Local\\Temp\\ipykernel_34448\\3034132282.py:15: FutureWarning: The behavior of DataFrame concatenation with empty or all-NA entries is deprecated. In a future version, this will no longer exclude empty or all-NA columns when determining the result dtypes. To retain the old behavior, exclude the relevant entries before the concat operation.\n",
      "  return pd.concat(all_data, ignore_index=True) if all_data else None\n"
     ]
    }
   ],
   "source": [
    "import os\n",
    "\n",
    "# Get the project root directory\n",
    "project_root = os.path.dirname(os.path.dirname(os.path.dirname(os.path.abspath('__file__'))))\n",
    "\n",
    "department = \"Colonia\"  # Change this to process different departments\n",
    "odd_folder = os.path.join(project_root, \"data\", \"raw\", \"results\", \"ODD\")\n",
    "output_dir = os.path.join(project_root, \"data\", \"processed\", \"ODD\", department)\n",
    "mapping_dir = os.path.join(project_root, \"maps\", \"zonasxseries\")\n",
    "final_dir = os.path.join(project_root, \"data\", \"final\", \"odd\", department)\n",
    "\n",
    "# Ensure directories exist\n",
    "os.makedirs(output_dir, exist_ok=True)\n",
    "os.makedirs(final_dir, exist_ok=True)\n",
    "\n",
    "process_odd_data(department, odd_folder, output_dir, mapping_dir, final_dir)"
   ]
  }
 ],
 "metadata": {
  "kernelspec": {
   "display_name": "Python 3 (ipykernel)",
   "language": "python",
   "name": "python3"
  },
  "language_info": {
   "codemirror_mode": {
    "name": "ipython",
    "version": 3
   },
   "file_extension": ".py",
   "mimetype": "text/x-python",
   "name": "python",
   "nbconvert_exporter": "python",
   "pygments_lexer": "ipython3",
   "version": "3.12.3"
  }
 },
 "nbformat": 4,
 "nbformat_minor": 2
}
