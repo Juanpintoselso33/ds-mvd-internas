{
 "cells": [
  {
   "cell_type": "markdown",
   "metadata": {},
   "source": [
    "# ODD Data Processing for Any Department\n",
    "\n",
    "This notebook processes ODD (Órgano Deliberativo Departamental) data for a specified department in Uruguay. It performs the following tasks:\n",
    "\n",
    "1. Data Loading: Reads Excel files containing ODD data from a specified folder.\n",
    "2. Data Filtering: Extracts data for the chosen department.\n",
    "3. Data Cleaning: Renames columns and cleans party names.\n",
    "4. Zone Mapping: Adds zone information based on the series codes.\n",
    "5. Data Saving: Saves the processed data at various stages of the pipeline.\n",
    "\n",
    "The notebook is designed to be flexible, allowing users to process data for different departments by changing a few parameters.\n",
    "\n",
    "Key Features:\n",
    "- Handles multiple Excel files in the input folder\n",
    "- Applies consistent data cleaning across all entries\n",
    "- Maps series codes to geographical zones using predefined mappings\n",
    "- Saves intermediate and final results for further analysis or verification\n",
    "\n",
    "To use this notebook, you'll need to specify:\n",
    "1. The department name\n",
    "2. The input folder containing ODD Excel files\n",
    "3. The output directory for processed data\n",
    "4. The directory containing series-to-zone mapping files\n",
    "5. The final directory for the fully processed data\n",
    "\n",
    "The notebook will then process the data and save the results in the specified locations, providing a clear audit trail of the data processing steps."
   ]
  },
  {
   "cell_type": "code",
   "execution_count": 3,
   "metadata": {},
   "outputs": [],
   "source": [
    "import pandas as pd\n",
    "import os\n",
    "import json\n",
    "\n",
    "def load_odd_data(odd_folder):\n",
    "    all_data = []\n",
    "    for file_name in os.listdir(odd_folder):\n",
    "        if file_name.endswith('.xlsx'):\n",
    "            file_path = os.path.join(odd_folder, file_name)\n",
    "            try:\n",
    "                df = pd.read_excel(file_path, header=8, usecols='A:H')\n",
    "                all_data.append(df)\n",
    "            except Exception as e:\n",
    "                print(f\"Error reading file {file_name}: {e}\")\n",
    "    return pd.concat(all_data, ignore_index=True) if all_data else None\n",
    "\n",
    "def clean_party_name(value):\n",
    "    party = value.split('_-_')[0]\n",
    "    party = party.replace('_', ' ')\n",
    "    return party.replace(' O.D.D.', '')\n",
    "\n",
    "def get_zone(serie, series_to_zona):\n",
    "    series = str(serie).split()\n",
    "    zones = [series_to_zona.get(s, 'Unknown') for s in series]\n",
    "    return ' '.join(set(zones))\n",
    "\n",
    "def process_odd_data(department, odd_folder, output_dir, mapping_dir, final_dir):\n",
    "    # Load data\n",
    "    combined_data = load_odd_data(odd_folder)\n",
    "    if combined_data is None:\n",
    "        print(\"No valid data found in Excel files.\")\n",
    "        return\n",
    "\n",
    "    # Filter data for the specified department\n",
    "    department_odd_data = combined_data[combined_data['DEPTO'] == department].copy()\n",
    "    department_odd_data.to_csv(os.path.join(output_dir, f'{department.lower()}_odd_filtered.csv'), index=False, encoding='utf-8')\n",
    "\n",
    "    # Clean and transform data\n",
    "    department_odd_data.rename(columns={'CONVOCATORIA': 'PARTIDO'}, inplace=True)\n",
    "    department_odd_data['PARTIDO'] = department_odd_data['PARTIDO'].apply(clean_party_name)\n",
    "    department_odd_data.to_csv(os.path.join(output_dir, f'{department.lower()}_odd_cleaned.csv'), index=False, encoding='utf-8')\n",
    "\n",
    "    if 'ACTO' in department_odd_data.columns:\n",
    "        department_odd_data = department_odd_data.drop(columns=['ACTO'])\n",
    "        department_odd_data.to_csv(os.path.join(output_dir, f'{department.lower()}_odd_no_acto.csv'), index=False, encoding='utf-8')\n",
    "\n",
    "    # Add zone information\n",
    "    mapping_file = os.path.join(mapping_dir, f'mapping_{department.lower()}.json')\n",
    "    with open(mapping_file, 'r', encoding='utf-8') as f:\n",
    "        series_to_zona = json.load(f)\n",
    "    department_odd_data['ZONA'] = department_odd_data['SERIES'].apply(lambda x: get_zone(x, series_to_zona))\n",
    "    \n",
    "    # Save final data\n",
    "    department_odd_data.to_csv(os.path.join(final_dir, f'{department.lower()}_odd_final.csv'), index=False, encoding='utf-8')\n",
    "\n",
    "    print(f\"Processed ODD data for {department}:\")\n",
    "    print(department_odd_data.head())\n",
    "    print(f\"\\nSaved processed data to:\")\n",
    "    print(f\"- {output_dir}/{department.lower()}_odd_filtered.csv\")\n",
    "    print(f\"- {output_dir}/{department.lower()}_odd_cleaned.csv\")\n",
    "    if 'ACTO' in combined_data.columns:\n",
    "        print(f\"- {output_dir}/{department.lower()}_odd_no_acto.csv\")\n",
    "    print(f\"- {final_dir}/{department.lower()}_odd_final.csv\")"
   ]
  },
  {
   "cell_type": "markdown",
   "metadata": {},
   "source": [
    "## Process ODD Data for a Specific Department\n",
    "\n",
    "You can change the department name, input folder, and output directory in the cell below to process data for different departments."
   ]
  },
  {
   "cell_type": "code",
   "execution_count": 4,
   "metadata": {},
   "outputs": [
    {
     "name": "stderr",
     "output_type": "stream",
     "text": [
      "C:\\Users\\trico\\AppData\\Local\\Temp\\ipykernel_37436\\667881016.py:15: FutureWarning: The behavior of DataFrame concatenation with empty or all-NA entries is deprecated. In a future version, this will no longer exclude empty or all-NA columns when determining the result dtypes. To retain the old behavior, exclude the relevant entries before the concat operation.\n",
      "  return pd.concat(all_data, ignore_index=True) if all_data else None\n"
     ]
    },
    {
     "name": "stdout",
     "output_type": "stream",
     "text": [
      "Processed ODD data for Canelones:\n",
      "              PARTIDO      DEPTO CIRCUITO SERIES     ESCRUTINIO   HOJA  \\\n",
      "761  Asamblea Popular  Canelones        4    CAA  Departamental   1326   \n",
      "762  Asamblea Popular  Canelones        5    CAA  Departamental  11917   \n",
      "763  Asamblea Popular  Canelones        7    CAA  Departamental   1326   \n",
      "764  Asamblea Popular  Canelones        8    CAA  Departamental  11917   \n",
      "765  Asamblea Popular  Canelones       11    CAA  Departamental   1326   \n",
      "\n",
      "    CNT_VOTOS       ZONA  \n",
      "761         1  Canelones  \n",
      "762         1  Canelones  \n",
      "763         1  Canelones  \n",
      "764         1  Canelones  \n",
      "765         1  Canelones  \n",
      "\n",
      "Saved processed data to:\n",
      "- c:\\Users\\trico\\Desktop\\Internas 2024\\data\\processed\\ODD\\Canelones/canelones_odd_filtered.csv\n",
      "- c:\\Users\\trico\\Desktop\\Internas 2024\\data\\processed\\ODD\\Canelones/canelones_odd_cleaned.csv\n",
      "- c:\\Users\\trico\\Desktop\\Internas 2024\\data\\processed\\ODD\\Canelones/canelones_odd_no_acto.csv\n",
      "- c:\\Users\\trico\\Desktop\\Internas 2024\\data\\final\\odd\\Canelones/canelones_odd_final.csv\n"
     ]
    }
   ],
   "source": [
    "import os\n",
    "\n",
    "# Get the project root directory\n",
    "project_root = os.path.dirname(os.path.dirname(os.path.dirname(os.path.abspath('__file__'))))\n",
    "\n",
    "department = \"Canelones\"  # Change this to process different departments\n",
    "odd_folder = os.path.join(project_root, \"data\", \"raw\", \"results\", \"ODD\")\n",
    "output_dir = os.path.join(project_root, \"data\", \"processed\", \"ODD\", department)\n",
    "mapping_dir = os.path.join(project_root, \"maps\", \"zonasxseries\")\n",
    "final_dir = os.path.join(project_root, \"data\", \"final\", \"odd\", department)\n",
    "\n",
    "# Ensure directories exist\n",
    "os.makedirs(output_dir, exist_ok=True)\n",
    "os.makedirs(final_dir, exist_ok=True)\n",
    "\n",
    "process_odd_data(department, odd_folder, output_dir, mapping_dir, final_dir)"
   ]
  }
 ],
 "metadata": {
  "kernelspec": {
   "display_name": "Python 3 (ipykernel)",
   "language": "python",
   "name": "python3"
  },
  "language_info": {
   "codemirror_mode": {
    "name": "ipython",
    "version": 3
   },
   "file_extension": ".py",
   "mimetype": "text/x-python",
   "name": "python",
   "nbconvert_exporter": "python",
   "pygments_lexer": "ipython3",
   "version": "3.12.3"
  }
 },
 "nbformat": 4,
 "nbformat_minor": 2
}
