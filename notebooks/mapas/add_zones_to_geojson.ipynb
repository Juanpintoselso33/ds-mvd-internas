{
 "cells": [
  {
   "cell_type": "markdown",
   "metadata": {},
   "source": [
    "# Add Zones to GeoJSON\n",
    "\n",
    "This notebook processes GeoJSON files for electoral districts, adding zone information based on a mapping file.\n",
    "\n",
    "## Import Required Libraries"
   ]
  },
  {
   "cell_type": "code",
   "execution_count": 5,
   "metadata": {},
   "outputs": [],
   "source": [
    "import json\n",
    "import os"
   ]
  },
  {
   "cell_type": "markdown",
   "metadata": {},
   "source": [
    "## Define Helper Functions\n",
    "\n",
    "These functions will help us load JSON files, save JSON files, and add zone information to GeoJSON features."
   ]
  },
  {
   "cell_type": "code",
   "execution_count": 6,
   "metadata": {},
   "outputs": [],
   "source": [
    "def load_json(file_path):\n",
    "    with open(file_path, 'r', encoding='utf-8') as f:\n",
    "        return json.load(f)\n",
    "\n",
    "def save_json(data, file_path):\n",
    "    with open(file_path, 'w', encoding='utf-8') as f:\n",
    "        json.dump(data, f, ensure_ascii=False, indent=2)\n",
    "\n",
    "def add_zone_to_feature(feature, zone_mapping):\n",
    "    serie = feature['properties'].get('serie')\n",
    "    feature['properties']['zona'] = zone_mapping.get(serie, 'Unknown')\n",
    "    return feature"
   ]
  },
  {
   "cell_type": "markdown",
   "metadata": {},
   "source": [
    "## Process GeoJSON\n",
    "\n",
    "This function loads the zone mapping and GeoJSON file, processes each feature to add zone information, and saves the updated GeoJSON."
   ]
  },
  {
   "cell_type": "code",
   "execution_count": 7,
   "metadata": {},
   "outputs": [],
   "source": [
    "def process_geojson(department, input_dir, output_dir):\n",
    "    # Get the directory three levels up from the current notebook\n",
    "    notebook_dir = os.path.dirname(os.path.dirname(os.path.dirname(os.path.abspath('__file__'))))\n",
    "    \n",
    "    # Load the zone mapping\n",
    "    zone_mapping_file = os.path.join(notebook_dir, input_dir, 'zonasxseries', f'mapping_{department.lower()}.json')\n",
    "    zone_mapping = load_json(zone_mapping_file)\n",
    "\n",
    "    # Load the GeoJSON file\n",
    "    geojson_file = os.path.join(notebook_dir, input_dir, 'deptos', f'{department.lower()}.geojson')\n",
    "    geojson_data = load_json(geojson_file)\n",
    "\n",
    "    # Process each feature in the GeoJSON\n",
    "    geojson_data['features'] = [add_zone_to_feature(feature, zone_mapping) for feature in geojson_data['features']]\n",
    "\n",
    "    # Ensure the output directory exists\n",
    "    output_dir_full = os.path.join(notebook_dir, output_dir)\n",
    "    os.makedirs(output_dir_full, exist_ok=True)\n",
    "\n",
    "    # Save the updated GeoJSON\n",
    "    output_file = os.path.join(output_dir_full, f'{department.lower()}_con_zona.geojson')\n",
    "    save_json(geojson_data, output_file)\n",
    "\n",
    "    print(f\"Updated GeoJSON saved to {output_file}\")"
   ]
  },
  {
   "cell_type": "markdown",
   "metadata": {},
   "source": [
    "## Run the Process\n",
    "\n",
    "Now, let's run the process for a specific department. You can modify these parameters as needed."
   ]
  },
  {
   "cell_type": "code",
   "execution_count": 8,
   "metadata": {},
   "outputs": [
    {
     "name": "stdout",
     "output_type": "stream",
     "text": [
      "Current working directory: c:\\Users\\trico\\Desktop\\Internas 2024\\notebooks\\mapas\n",
      "Notebook directory: c:\\Users\\trico\\Desktop\\Internas 2024\\notebooks\n",
      "Full path to mapping file: c:\\Users\\trico\\Desktop\\Internas 2024\\notebooks\\maps\\zonasxseries\\mapping_canelones.json\n",
      "Updated GeoJSON saved to c:\\Users\\trico\\Desktop\\Internas 2024\\maps/deptosconzona\\canelones_con_zona.geojson\n"
     ]
    }
   ],
   "source": [
    "department = \"Canelones\"\n",
    "input_dir = \"maps\"\n",
    "output_dir = \"maps/deptosconzona\"\n",
    "\n",
    "print(f\"Current working directory: {os.getcwd()}\")\n",
    "print(f\"Notebook directory: {os.path.dirname(os.path.dirname(os.path.abspath('__file__')))}\")\n",
    "print(f\"Full path to mapping file: {os.path.join(os.path.dirname(os.path.dirname(os.path.abspath('__file__'))), input_dir, 'zonasxseries', f'mapping_{department.lower()}.json')}\")\n",
    "\n",
    "process_geojson(department, input_dir, output_dir)"
   ]
  }
 ],
 "metadata": {
  "kernelspec": {
   "display_name": ".venv",
   "language": "python",
   "name": "python3"
  },
  "language_info": {
   "codemirror_mode": {
    "name": "ipython",
    "version": 3
   },
   "file_extension": ".py",
   "mimetype": "text/x-python",
   "name": "python",
   "nbconvert_exporter": "python",
   "pygments_lexer": "ipython3",
   "version": "3.12.3"
  }
 },
 "nbformat": 4,
 "nbformat_minor": 2
}
