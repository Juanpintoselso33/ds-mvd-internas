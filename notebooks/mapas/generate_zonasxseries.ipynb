{
 "cells": [
  {
   "cell_type": "code",
   "execution_count": 45,
   "metadata": {},
   "outputs": [
    {
     "name": "stdout",
     "output_type": "stream",
     "text": [
      "Requirement already satisfied: tabula-py in c:\\users\\trico\\desktop\\internas 2024\\.venv\\lib\\site-packages (2.9.3)\n",
      "Requirement already satisfied: pandas>=0.25.3 in c:\\users\\trico\\desktop\\internas 2024\\.venv\\lib\\site-packages (from tabula-py) (2.2.2)\n",
      "Requirement already satisfied: numpy in c:\\users\\trico\\desktop\\internas 2024\\.venv\\lib\\site-packages (from tabula-py) (2.0.0)\n",
      "Requirement already satisfied: distro in c:\\users\\trico\\desktop\\internas 2024\\.venv\\lib\\site-packages (from tabula-py) (1.9.0)\n",
      "Requirement already satisfied: python-dateutil>=2.8.2 in c:\\users\\trico\\desktop\\internas 2024\\.venv\\lib\\site-packages (from pandas>=0.25.3->tabula-py) (2.9.0.post0)\n",
      "Requirement already satisfied: pytz>=2020.1 in c:\\users\\trico\\desktop\\internas 2024\\.venv\\lib\\site-packages (from pandas>=0.25.3->tabula-py) (2024.1)\n",
      "Requirement already satisfied: tzdata>=2022.7 in c:\\users\\trico\\desktop\\internas 2024\\.venv\\lib\\site-packages (from pandas>=0.25.3->tabula-py) (2024.1)\n",
      "Requirement already satisfied: six>=1.5 in c:\\users\\trico\\desktop\\internas 2024\\.venv\\lib\\site-packages (from python-dateutil>=2.8.2->pandas>=0.25.3->tabula-py) (1.16.0)\n"
     ]
    },
    {
     "name": "stderr",
     "output_type": "stream",
     "text": [
      "\n",
      "[notice] A new release of pip is available: 24.0 -> 24.2\n",
      "[notice] To update, run: python.exe -m pip install --upgrade pip\n"
     ]
    },
    {
     "name": "stdout",
     "output_type": "stream",
     "text": [
      "Requirement already satisfied: PyPDF2 in c:\\users\\trico\\desktop\\internas 2024\\.venv\\lib\\site-packages (3.0.1)\n"
     ]
    },
    {
     "name": "stderr",
     "output_type": "stream",
     "text": [
      "\n",
      "[notice] A new release of pip is available: 24.0 -> 24.2\n",
      "[notice] To update, run: python.exe -m pip install --upgrade pip\n"
     ]
    }
   ],
   "source": [
    "!pip install tabula-py\n",
    "!pip install PyPDF2\n",
    "import os\n",
    "import json\n",
    "import re\n",
    "import unicodedata\n",
    "import PyPDF2\n",
    "import tabula\n",
    "import unicodedata\n",
    "\n",
    "def normalize_string(s):\n",
    "    # Split the string into words\n",
    "    words = s.split()\n",
    "    \n",
    "    # List of words to keep lowercase\n",
    "    lowercase_words = ['de', 'del', 'la', 'las', 'los', 'el']\n",
    "    \n",
    "    # Capitalize each word unless it's in the lowercase_words list\n",
    "    # Always capitalize the first word\n",
    "    normalized_words = []\n",
    "    for i, word in enumerate(words):\n",
    "        if i == 0 or word.lower() not in lowercase_words:\n",
    "            normalized_words.append(word.capitalize())\n",
    "        else:\n",
    "            normalized_words.append(word.lower())\n",
    "    \n",
    "    # Join the words back together\n",
    "    return ' '.join(normalized_words)\n",
    "\n",
    "def process_data(input_file, output_file):\n",
    "    series_dict = {}\n",
    "\n",
    "    with open(input_file, 'r', encoding='utf-8') as f:\n",
    "        for line in f:\n",
    "            parts = line.strip().split(maxsplit=1)\n",
    "            if len(parts) == 2:\n",
    "                series, locality = parts\n",
    "                series_code = series[:3]\n",
    "                normalized_locality = normalize_string(locality)\n",
    "                \n",
    "                if series_code not in series_dict:\n",
    "                    series_dict[series_code] = normalized_locality\n",
    "\n",
    "    sorted_dict = dict(sorted(series_dict.items()))\n",
    "\n",
    "    with open(output_file, 'w', encoding='utf-8') as f:\n",
    "        json.dump(sorted_dict, f, ensure_ascii=False, indent=2)\n",
    "\n",
    "    print(f\"JSON dictionary has been saved to {output_file}\")\n",
    "\n",
    "\n",
    "import re\n",
    "\n",
    "def extract_data_from_pdf(pdf_path):\n",
    "    data = []\n",
    "    # Read all pages\n",
    "    tables = tabula.read_pdf(pdf_path, pages='all', multiple_tables=True)\n",
    "    \n",
    "    for table in tables:\n",
    "        if len(table.columns) >= 3:  # Ensure we have at least 3 columns\n",
    "            for _, row in table.iterrows():\n",
    "                series = row.iloc[1][:3]  # Get first 3 characters of the second column\n",
    "                locality = row.iloc[2]  # Get the third column (locality)\n",
    "                if isinstance(series, str) and isinstance(locality, str):\n",
    "                    data.append((series, locality))\n",
    "    \n",
    "    return data"
   ]
  },
  {
   "cell_type": "code",
   "execution_count": 46,
   "metadata": {},
   "outputs": [],
   "source": [
    "def process_department(department):\n",
    "    department_lower = department.lower()\n",
    "    base_dir = os.path.abspath(os.path.join(os.getcwd(), '..', '..'))\n",
    "    pdf_path = os.path.join(base_dir, \"maps\", \"planescircuitales\", f\"plan_{department_lower}.pdf\")\n",
    "    output_path = os.path.join(base_dir, \"maps\", \"zonasxseries\", f\"mapping_{department_lower}.json\")\n",
    "\n",
    "    print(f\"PDF path: {pdf_path}\")\n",
    "    print(f\"Output path: {output_path}\")\n",
    "\n",
    "    if not os.path.exists(pdf_path):\n",
    "        print(f\"Error: PDF file not found at {pdf_path}\")\n",
    "        return\n",
    "\n",
    "    # Extract and process data directly from PDF\n",
    "    extracted_data = extract_data_from_pdf(pdf_path)\n",
    "    print(f\"Extracted data: {extracted_data[:5]}...\")  # Print first 5 items\n",
    "    print(f\"Total extracted items: {len(extracted_data)}\")\n",
    "\n",
    " # Process the extracted data\n",
    "    series_dict = {}\n",
    "    for series, locality in extracted_data:\n",
    "        if series not in series_dict:\n",
    "            series_dict[series] = normalize_string(locality)\n",
    "\n",
    "    sorted_dict = dict(sorted(series_dict.items()))\n",
    "\n",
    "    print(f\"Processed data: {list(sorted_dict.items())[:5]}...\")  # Print first 5 items\n",
    "    print(f\"Total unique series: {len(sorted_dict)}\")\n",
    "\n",
    "    os.makedirs(os.path.dirname(output_path), exist_ok=True)\n",
    "    with open(output_path, 'w', encoding='utf-8') as f:\n",
    "        json.dump(sorted_dict, f, ensure_ascii=False, indent=2)\n",
    "\n",
    "    print(f\"Processing completed for {department}\")"
   ]
  },
  {
   "cell_type": "code",
   "execution_count": 47,
   "metadata": {},
   "outputs": [
    {
     "name": "stdout",
     "output_type": "stream",
     "text": [
      "PDF path: c:\\Users\\trico\\Desktop\\Internas 2024\\maps\\planescircuitales\\plan_canelones.pdf\n",
      "Output path: c:\\Users\\trico\\Desktop\\Internas 2024\\maps\\zonasxseries\\mapping_canelones.json\n",
      "Extracted data: [('CAA', 'CANELONES'), ('CAA', 'CANELONES'), ('CAA', 'CANELONES'), ('CAA', 'CANELONES'), ('CAA', 'CANELONES')]...\n",
      "Total extracted items: 1041\n",
      "Processed data: [('CAA', 'Canelones'), ('CBA', 'Santa Lucía'), ('CBB', 'Santa Lucía'), ('CBC', 'Santa Lucía'), ('CCA', 'Los Cerrillos')]...\n",
      "Total unique series: 43\n",
      "Processing completed for Canelones\n"
     ]
    }
   ],
   "source": [
    "# Execute this cell with the desired department name\n",
    "department = \"Canelones\"  # Change this to the department you want to process\n",
    "process_department(department)"
   ]
  }
 ],
 "metadata": {
  "kernelspec": {
   "display_name": ".venv",
   "language": "python",
   "name": "python3"
  },
  "language_info": {
   "codemirror_mode": {
    "name": "ipython",
    "version": 3
   },
   "file_extension": ".py",
   "mimetype": "text/x-python",
   "name": "python",
   "nbconvert_exporter": "python",
   "pygments_lexer": "ipython3",
   "version": "3.12.3"
  }
 },
 "nbformat": 4,
 "nbformat_minor": 2
}
